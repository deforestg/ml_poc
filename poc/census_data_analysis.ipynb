{
 "cells": [
  {
   "cell_type": "markdown",
   "metadata": {},
   "source": [
    "# CPS ASEC Research File Analysis\n",
    "\n",
    "This notebook uses an experimental data set from the 2017 census. This is the source: https://www.census.gov/data/datasets/2017/demo/income-poverty/2017-cps-asec-research-file.html\n",
    "The \"2017 Person file (CSV)\" is used\n",
    "\n",
    "I attempt to use some of the data fields as inputs to predict categorical income: poverty, low, medium, and high"
   ]
  },
  {
   "cell_type": "code",
   "execution_count": 1,
   "metadata": {
    "pycharm": {
     "name": "#%%\n"
    }
   },
   "outputs": [],
   "source": [
    "import pandas as pd\n",
    "import tensorflow as tf\n",
    "from sklearn.utils import shuffle\n",
    "from sklearn import preprocessing"
   ]
  },
  {
   "cell_type": "code",
   "execution_count": 2,
   "metadata": {
    "pycharm": {
     "name": "#%%\n"
    }
   },
   "outputs": [],
   "source": [
    "raw_data = pd.read_csv('pppub17.csv')"
   ]
  },
  {
   "cell_type": "markdown",
   "metadata": {},
   "source": [
    "## Prune the data\n",
    "\n",
    "There are many many columns, we will only select a few data points for analysis.\n",
    "Our prediction target will be income category, which is stored in column 'PTOT_R'"
   ]
  },
  {
   "cell_type": "code",
   "execution_count": 3,
   "metadata": {
    "pycharm": {
     "name": "#%%\n"
    }
   },
   "outputs": [
    {
     "data": {
      "text/html": [
       "<div>\n",
       "<style scoped>\n",
       "    .dataframe tbody tr th:only-of-type {\n",
       "        vertical-align: middle;\n",
       "    }\n",
       "\n",
       "    .dataframe tbody tr th {\n",
       "        vertical-align: top;\n",
       "    }\n",
       "\n",
       "    .dataframe thead th {\n",
       "        text-align: right;\n",
       "    }\n",
       "</style>\n",
       "<table border=\"1\" class=\"dataframe\">\n",
       "  <thead>\n",
       "    <tr style=\"text-align: right;\">\n",
       "      <th></th>\n",
       "      <th>PEPAR1</th>\n",
       "      <th>PEPAR2</th>\n",
       "      <th>A_AGE</th>\n",
       "      <th>A_FTPT</th>\n",
       "      <th>A_HGA</th>\n",
       "      <th>A_SEX</th>\n",
       "      <th>SPM_HRACE</th>\n",
       "      <th>PRCITSHP</th>\n",
       "      <th>PTOT_R</th>\n",
       "    </tr>\n",
       "  </thead>\n",
       "  <tbody>\n",
       "    <tr>\n",
       "      <th>129096</th>\n",
       "      <td>2</td>\n",
       "      <td>1</td>\n",
       "      <td>17</td>\n",
       "      <td>1</td>\n",
       "      <td>38</td>\n",
       "      <td>2</td>\n",
       "      <td>1</td>\n",
       "      <td>1</td>\n",
       "      <td>1</td>\n",
       "    </tr>\n",
       "    <tr>\n",
       "      <th>24979</th>\n",
       "      <td>-1</td>\n",
       "      <td>-1</td>\n",
       "      <td>25</td>\n",
       "      <td>1</td>\n",
       "      <td>40</td>\n",
       "      <td>2</td>\n",
       "      <td>1</td>\n",
       "      <td>1</td>\n",
       "      <td>2</td>\n",
       "    </tr>\n",
       "    <tr>\n",
       "      <th>98668</th>\n",
       "      <td>-1</td>\n",
       "      <td>-1</td>\n",
       "      <td>48</td>\n",
       "      <td>1</td>\n",
       "      <td>40</td>\n",
       "      <td>2</td>\n",
       "      <td>1</td>\n",
       "      <td>1</td>\n",
       "      <td>15</td>\n",
       "    </tr>\n",
       "    <tr>\n",
       "      <th>102711</th>\n",
       "      <td>2</td>\n",
       "      <td>1</td>\n",
       "      <td>20</td>\n",
       "      <td>1</td>\n",
       "      <td>40</td>\n",
       "      <td>2</td>\n",
       "      <td>1</td>\n",
       "      <td>1</td>\n",
       "      <td>4</td>\n",
       "    </tr>\n",
       "    <tr>\n",
       "      <th>82763</th>\n",
       "      <td>-1</td>\n",
       "      <td>-1</td>\n",
       "      <td>33</td>\n",
       "      <td>1</td>\n",
       "      <td>43</td>\n",
       "      <td>1</td>\n",
       "      <td>1</td>\n",
       "      <td>1</td>\n",
       "      <td>15</td>\n",
       "    </tr>\n",
       "  </tbody>\n",
       "</table>\n",
       "</div>"
      ],
      "text/plain": [
       "        PEPAR1  PEPAR2  A_AGE  A_FTPT  A_HGA  A_SEX  SPM_HRACE  PRCITSHP  \\\n",
       "129096       2       1     17       1     38      2          1         1   \n",
       "24979       -1      -1     25       1     40      2          1         1   \n",
       "98668       -1      -1     48       1     40      2          1         1   \n",
       "102711       2       1     20       1     40      2          1         1   \n",
       "82763       -1      -1     33       1     43      1          1         1   \n",
       "\n",
       "        PTOT_R  \n",
       "129096       1  \n",
       "24979        2  \n",
       "98668       15  \n",
       "102711       4  \n",
       "82763       15  "
      ]
     },
     "execution_count": 3,
     "metadata": {},
     "output_type": "execute_result"
    }
   ],
   "source": [
    "columns = [\n",
    "    'PEPAR1',  # -1 = No Parent1 present\n",
    "    'PEPAR2',  # -1 = No Parent2 present\n",
    "    'A_AGE',\n",
    "    'A_FTPT',  # 1 = Full time, 2 = Part time\n",
    "    'A_HGA',  # Educational attainment, values in order\n",
    "    'A_SEX',  # 1 = Male, 2 = Female\n",
    "    'SPM_HRACE',  # Race categories 1 = White alone, 2 = Black alone, 3 = Asian alone, 4 = Other\n",
    "    'PRCITSHP',  # CITIZENSHIP GROUP categories\n",
    "    'PTOT_R',  # Income categories, 2017 poverty line is 12,060, which is values greater than 5\n",
    "]\n",
    "pruned_data = raw_data[columns].copy()\n",
    "# filter out individuals who are not working (value 0)\n",
    "pruned_data = pruned_data[pruned_data['A_FTPT'] != 0]\n",
    "pruned_data = shuffle(pruned_data)\n",
    "pruned_data.head()"
   ]
  },
  {
   "cell_type": "markdown",
   "metadata": {},
   "source": [
    "## Perform data mappings\n",
    "\n",
    "Several inputs can be turned into binary fields.\n",
    "There are many income buckets, but we will truncate them into just 4."
   ]
  },
  {
   "cell_type": "code",
   "execution_count": 4,
   "metadata": {
    "pycharm": {
     "name": "#%%\n"
    }
   },
   "outputs": [
    {
     "data": {
      "text/html": [
       "<div>\n",
       "<style scoped>\n",
       "    .dataframe tbody tr th:only-of-type {\n",
       "        vertical-align: middle;\n",
       "    }\n",
       "\n",
       "    .dataframe tbody tr th {\n",
       "        vertical-align: top;\n",
       "    }\n",
       "\n",
       "    .dataframe thead th {\n",
       "        text-align: right;\n",
       "    }\n",
       "</style>\n",
       "<table border=\"1\" class=\"dataframe\">\n",
       "  <thead>\n",
       "    <tr style=\"text-align: right;\">\n",
       "      <th></th>\n",
       "      <th>PEPAR1</th>\n",
       "      <th>PEPAR2</th>\n",
       "      <th>A_AGE</th>\n",
       "      <th>A_FTPT</th>\n",
       "      <th>A_HGA</th>\n",
       "      <th>A_SEX</th>\n",
       "      <th>SPM_HRACE</th>\n",
       "      <th>PRCITSHP</th>\n",
       "      <th>PTOT_R</th>\n",
       "    </tr>\n",
       "  </thead>\n",
       "  <tbody>\n",
       "    <tr>\n",
       "      <th>129096</th>\n",
       "      <td>1</td>\n",
       "      <td>1</td>\n",
       "      <td>17</td>\n",
       "      <td>1</td>\n",
       "      <td>38</td>\n",
       "      <td>0</td>\n",
       "      <td>1</td>\n",
       "      <td>1</td>\n",
       "      <td>0</td>\n",
       "    </tr>\n",
       "    <tr>\n",
       "      <th>24979</th>\n",
       "      <td>0</td>\n",
       "      <td>0</td>\n",
       "      <td>25</td>\n",
       "      <td>1</td>\n",
       "      <td>40</td>\n",
       "      <td>0</td>\n",
       "      <td>1</td>\n",
       "      <td>1</td>\n",
       "      <td>0</td>\n",
       "    </tr>\n",
       "    <tr>\n",
       "      <th>98668</th>\n",
       "      <td>0</td>\n",
       "      <td>0</td>\n",
       "      <td>48</td>\n",
       "      <td>1</td>\n",
       "      <td>40</td>\n",
       "      <td>0</td>\n",
       "      <td>1</td>\n",
       "      <td>1</td>\n",
       "      <td>1</td>\n",
       "    </tr>\n",
       "    <tr>\n",
       "      <th>102711</th>\n",
       "      <td>1</td>\n",
       "      <td>1</td>\n",
       "      <td>20</td>\n",
       "      <td>1</td>\n",
       "      <td>40</td>\n",
       "      <td>0</td>\n",
       "      <td>1</td>\n",
       "      <td>1</td>\n",
       "      <td>0</td>\n",
       "    </tr>\n",
       "    <tr>\n",
       "      <th>82763</th>\n",
       "      <td>0</td>\n",
       "      <td>0</td>\n",
       "      <td>33</td>\n",
       "      <td>1</td>\n",
       "      <td>43</td>\n",
       "      <td>1</td>\n",
       "      <td>1</td>\n",
       "      <td>1</td>\n",
       "      <td>1</td>\n",
       "    </tr>\n",
       "  </tbody>\n",
       "</table>\n",
       "</div>"
      ],
      "text/plain": [
       "        PEPAR1  PEPAR2  A_AGE  A_FTPT  A_HGA  A_SEX  SPM_HRACE  PRCITSHP  \\\n",
       "129096       1       1     17       1     38      0          1         1   \n",
       "24979        0       0     25       1     40      0          1         1   \n",
       "98668        0       0     48       1     40      0          1         1   \n",
       "102711       1       1     20       1     40      0          1         1   \n",
       "82763        0       0     33       1     43      1          1         1   \n",
       "\n",
       "        PTOT_R  \n",
       "129096       0  \n",
       "24979        0  \n",
       "98668        1  \n",
       "102711       0  \n",
       "82763        1  "
      ]
     },
     "execution_count": 4,
     "metadata": {},
     "output_type": "execute_result"
    }
   ],
   "source": [
    "\n",
    "def map_parent(value):\n",
    "    # makes 0 no parent, 1 is some kind of parent\n",
    "    return 0 if value == -1 else 1\n",
    "\n",
    "\n",
    "def map_ftpt(value):\n",
    "    # makes 0 part time, 1 full time\n",
    "    return 0 if value == 2 else 1\n",
    "\n",
    "\n",
    "def map_sex(value):\n",
    "    # makes 0 female, 1 male\n",
    "    return 0 if value == 2 else 1\n",
    "\n",
    "\n",
    "def map_income(value):\n",
    "    \"\"\"\n",
    "    truncates from 41 buckets into 4\n",
    "    new buckets are:\n",
    "      - 0: below proverty level\n",
    "      - 1: low income\n",
    "      - 2: middle income\n",
    "      - 3: high income\n",
    "    values below 6 are below poverty level\n",
    "    value 41 is already a bucket of more than 100k\n",
    "    \"\"\"\n",
    "    poverty_level = 6\n",
    "    if value < poverty_level:\n",
    "        value = 0\n",
    "    elif value == 41:\n",
    "        value = 3\n",
    "    else:\n",
    "        # convert values 6-40 to low and middle incomes\n",
    "        # the midpoint is 16\n",
    "        if value < 16:\n",
    "            value = 1\n",
    "        else:\n",
    "            value = 2\n",
    "    return value\n",
    "\n",
    "mapped_data = pruned_data.copy()\n",
    "mapped_data['PEPAR1'] = mapped_data['PEPAR1'].map(map_parent)\n",
    "mapped_data['PEPAR2'] = mapped_data['PEPAR2'].map(map_parent)\n",
    "mapped_data['A_FTPT'] = mapped_data['A_FTPT'].map(map_ftpt)\n",
    "mapped_data['A_SEX'] = mapped_data['A_SEX'].map(map_sex)\n",
    "mapped_data['PTOT_R'] = mapped_data['PTOT_R'].map(map_income)\n",
    "mapped_data.head()"
   ]
  },
  {
   "cell_type": "markdown",
   "metadata": {},
   "source": [
    "### Add the dummies\n",
    "\n",
    "Citizenship statuses and races are both categorical and converted to dummies."
   ]
  },
  {
   "cell_type": "code",
   "execution_count": 5,
   "metadata": {
    "pycharm": {
     "name": "#%%\n"
    }
   },
   "outputs": [
    {
     "data": {
      "text/html": [
       "<div>\n",
       "<style scoped>\n",
       "    .dataframe tbody tr th:only-of-type {\n",
       "        vertical-align: middle;\n",
       "    }\n",
       "\n",
       "    .dataframe tbody tr th {\n",
       "        vertical-align: top;\n",
       "    }\n",
       "\n",
       "    .dataframe thead th {\n",
       "        text-align: right;\n",
       "    }\n",
       "</style>\n",
       "<table border=\"1\" class=\"dataframe\">\n",
       "  <thead>\n",
       "    <tr style=\"text-align: right;\">\n",
       "      <th></th>\n",
       "      <th>PEPAR1</th>\n",
       "      <th>PEPAR2</th>\n",
       "      <th>A_AGE</th>\n",
       "      <th>A_FTPT</th>\n",
       "      <th>A_HGA</th>\n",
       "      <th>A_SEX</th>\n",
       "      <th>PTOT_R</th>\n",
       "      <th>citizen_2</th>\n",
       "      <th>citizen_3</th>\n",
       "      <th>citizen_4</th>\n",
       "      <th>citizen_5</th>\n",
       "      <th>black</th>\n",
       "      <th>asian</th>\n",
       "      <th>other</th>\n",
       "    </tr>\n",
       "  </thead>\n",
       "  <tbody>\n",
       "    <tr>\n",
       "      <th>129096</th>\n",
       "      <td>1</td>\n",
       "      <td>1</td>\n",
       "      <td>17</td>\n",
       "      <td>1</td>\n",
       "      <td>38</td>\n",
       "      <td>0</td>\n",
       "      <td>0</td>\n",
       "      <td>0</td>\n",
       "      <td>0</td>\n",
       "      <td>0</td>\n",
       "      <td>0</td>\n",
       "      <td>0</td>\n",
       "      <td>0</td>\n",
       "      <td>0</td>\n",
       "    </tr>\n",
       "    <tr>\n",
       "      <th>24979</th>\n",
       "      <td>0</td>\n",
       "      <td>0</td>\n",
       "      <td>25</td>\n",
       "      <td>1</td>\n",
       "      <td>40</td>\n",
       "      <td>0</td>\n",
       "      <td>0</td>\n",
       "      <td>0</td>\n",
       "      <td>0</td>\n",
       "      <td>0</td>\n",
       "      <td>0</td>\n",
       "      <td>0</td>\n",
       "      <td>0</td>\n",
       "      <td>0</td>\n",
       "    </tr>\n",
       "    <tr>\n",
       "      <th>98668</th>\n",
       "      <td>0</td>\n",
       "      <td>0</td>\n",
       "      <td>48</td>\n",
       "      <td>1</td>\n",
       "      <td>40</td>\n",
       "      <td>0</td>\n",
       "      <td>1</td>\n",
       "      <td>0</td>\n",
       "      <td>0</td>\n",
       "      <td>0</td>\n",
       "      <td>0</td>\n",
       "      <td>0</td>\n",
       "      <td>0</td>\n",
       "      <td>0</td>\n",
       "    </tr>\n",
       "    <tr>\n",
       "      <th>102711</th>\n",
       "      <td>1</td>\n",
       "      <td>1</td>\n",
       "      <td>20</td>\n",
       "      <td>1</td>\n",
       "      <td>40</td>\n",
       "      <td>0</td>\n",
       "      <td>0</td>\n",
       "      <td>0</td>\n",
       "      <td>0</td>\n",
       "      <td>0</td>\n",
       "      <td>0</td>\n",
       "      <td>0</td>\n",
       "      <td>0</td>\n",
       "      <td>0</td>\n",
       "    </tr>\n",
       "    <tr>\n",
       "      <th>82763</th>\n",
       "      <td>0</td>\n",
       "      <td>0</td>\n",
       "      <td>33</td>\n",
       "      <td>1</td>\n",
       "      <td>43</td>\n",
       "      <td>1</td>\n",
       "      <td>1</td>\n",
       "      <td>0</td>\n",
       "      <td>0</td>\n",
       "      <td>0</td>\n",
       "      <td>0</td>\n",
       "      <td>0</td>\n",
       "      <td>0</td>\n",
       "      <td>0</td>\n",
       "    </tr>\n",
       "  </tbody>\n",
       "</table>\n",
       "</div>"
      ],
      "text/plain": [
       "        PEPAR1  PEPAR2  A_AGE  A_FTPT  A_HGA  A_SEX  PTOT_R  citizen_2  \\\n",
       "129096       1       1     17       1     38      0       0          0   \n",
       "24979        0       0     25       1     40      0       0          0   \n",
       "98668        0       0     48       1     40      0       1          0   \n",
       "102711       1       1     20       1     40      0       0          0   \n",
       "82763        0       0     33       1     43      1       1          0   \n",
       "\n",
       "        citizen_3  citizen_4  citizen_5  black  asian  other  \n",
       "129096          0          0          0      0      0      0  \n",
       "24979           0          0          0      0      0      0  \n",
       "98668           0          0          0      0      0      0  \n",
       "102711          0          0          0      0      0      0  \n",
       "82763           0          0          0      0      0      0  "
      ]
     },
     "execution_count": 5,
     "metadata": {},
     "output_type": "execute_result"
    }
   ],
   "source": [
    "data_with_dummies = mapped_data.copy()\n",
    "citizenships = pd.get_dummies(pruned_data['PRCITSHP'], drop_first=True)\n",
    "citizenships.columns = ['citizen_2', 'citizen_3', 'citizen_4', 'citizen_5']\n",
    "data_with_dummies = data_with_dummies.drop(['PRCITSHP'], axis=1)\n",
    "data_with_dummies = pd.concat([data_with_dummies, citizenships], axis=1)\n",
    "\n",
    "races = pd.get_dummies(data_with_dummies['SPM_HRACE'], drop_first=True)\n",
    "races.columns = ['black', 'asian', 'other']\n",
    "data_with_dummies = data_with_dummies.drop(['SPM_HRACE'], axis=1)\n",
    "data_with_dummies = pd.concat([data_with_dummies, races], axis=1)\n",
    "\n",
    "data_with_dummies.head()"
   ]
  },
  {
   "cell_type": "markdown",
   "metadata": {},
   "source": [
    "### Convert the targets to dummies"
   ]
  },
  {
   "cell_type": "code",
   "execution_count": 6,
   "metadata": {
    "pycharm": {
     "name": "#%%\n"
    }
   },
   "outputs": [],
   "source": [
    "targets = pd.get_dummies(data_with_dummies['PTOT_R'])\n",
    "targets.columns = ['poverty', 'low', 'middle', 'high']"
   ]
  },
  {
   "cell_type": "markdown",
   "metadata": {},
   "source": [
    "### Remove targets from inputs"
   ]
  },
  {
   "cell_type": "code",
   "execution_count": 7,
   "metadata": {
    "pycharm": {
     "name": "#%%\n"
    }
   },
   "outputs": [],
   "source": [
    "unscaled_inputs = data_with_dummies.drop(['PTOT_R'], axis=1)"
   ]
  },
  {
   "cell_type": "markdown",
   "metadata": {},
   "source": [
    "### Scale the inputs\n",
    "\n",
    "This ensures inputs with higher numbers like age and education don't get weighted too much"
   ]
  },
  {
   "cell_type": "code",
   "execution_count": 8,
   "metadata": {
    "pycharm": {
     "name": "#%%\n"
    }
   },
   "outputs": [],
   "source": [
    "inputs = preprocessing.scale(unscaled_inputs)"
   ]
  },
  {
   "cell_type": "markdown",
   "metadata": {
    "pycharm": {
     "name": "#%%\n"
    }
   },
   "source": [
    "## Preprocessing Complete"
   ]
  },
  {
   "cell_type": "markdown",
   "metadata": {},
   "source": [
    "### Separate train, validation, and test datasets"
   ]
  },
  {
   "cell_type": "code",
   "execution_count": 9,
   "metadata": {
    "pycharm": {
     "name": "#%%\n"
    }
   },
   "outputs": [],
   "source": [
    "train_percent = .8\n",
    "validation_percent = .1\n",
    "test_percent = 1 - train_percent - validation_percent\n",
    "total_samples = inputs.shape[0]\n",
    "\n",
    "train_offset = int(total_samples*train_percent)\n",
    "train_inputs = inputs[0:train_offset]\n",
    "train_targets = targets[0:train_offset]\n",
    "\n",
    "validation_offset = train_offset + int(total_samples*validation_percent)\n",
    "validation_inputs = inputs[train_offset+1:validation_offset]\n",
    "validation_targets = targets[train_offset+1:validation_offset]\n",
    "\n",
    "test_inputs = inputs[validation_offset+1:]\n",
    "test_targets = targets[validation_offset+1:]"
   ]
  },
  {
   "cell_type": "markdown",
   "metadata": {},
   "source": [
    "### Define the hyperparameters"
   ]
  },
  {
   "cell_type": "code",
   "execution_count": 10,
   "metadata": {},
   "outputs": [],
   "source": [
    "hidden_layer_size = 100\n",
    "max_epochs = 100\n",
    "patience = 3\n",
    "number_of_layers = 5\n",
    "layer_activation_algo = 'relu'\n",
    "optimizer_algo = 'adam'\n",
    "loss_algo = 'categorical_crossentropy'"
   ]
  },
  {
   "cell_type": "markdown",
   "metadata": {},
   "source": [
    "### Create the model"
   ]
  },
  {
   "cell_type": "code",
   "execution_count": 11,
   "metadata": {
    "pycharm": {
     "name": "#%%\n"
    }
   },
   "outputs": [
    {
     "name": "stderr",
     "output_type": "stream",
     "text": [
      "2021-08-31 18:39:24.266900: I tensorflow/core/platform/cpu_feature_guard.cc:142] This TensorFlow binary is optimized with oneAPI Deep Neural Network Library (oneDNN) to use the following CPU instructions in performance-critical operations:  AVX2 FMA\n",
      "To enable them in other operations, rebuild TensorFlow with the appropriate compiler flags.\n"
     ]
    }
   ],
   "source": [
    "output_size = len(targets.columns)\n",
    "layers = []\n",
    "\n",
    "for layer in range(0, number_of_layers):\n",
    "    tf.keras.layers.Dense(hidden_layer_size, activation=layer_activation_algo)\n",
    "\n",
    "output_layer = tf.keras.layers.Dense(output_size, activation='softmax')\n",
    "layers.append(output_layer)\n",
    "\n",
    "model = tf.keras.Sequential(layers)\n",
    "\n",
    "model.compile(optimizer=optimizer_algo, loss=loss_algo, metrics=['accuracy'])"
   ]
  },
  {
   "cell_type": "markdown",
   "metadata": {},
   "source": [
    "## Train the model"
   ]
  },
  {
   "cell_type": "code",
   "execution_count": 12,
   "metadata": {
    "pycharm": {
     "name": "#%%\n"
    }
   },
   "outputs": [
    {
     "name": "stderr",
     "output_type": "stream",
     "text": [
      "2021-08-31 18:39:24.347814: I tensorflow/compiler/mlir/mlir_graph_optimization_pass.cc:185] None of the MLIR Optimization Passes are enabled (registered 2)\n"
     ]
    },
    {
     "name": "stdout",
     "output_type": "stream",
     "text": [
      "Epoch 1/100\n",
      "418/418 [==============================] - 1s 1ms/step - loss: 1.5040 - accuracy: 0.4592 - val_loss: 1.1309 - val_accuracy: 0.6587\n",
      "Epoch 2/100\n",
      "418/418 [==============================] - 0s 737us/step - loss: 0.9197 - accuracy: 0.7038 - val_loss: 0.8541 - val_accuracy: 0.7163\n",
      "Epoch 3/100\n",
      "418/418 [==============================] - 0s 584us/step - loss: 0.7427 - accuracy: 0.7437 - val_loss: 0.7427 - val_accuracy: 0.7367\n",
      "Epoch 4/100\n",
      "418/418 [==============================] - 0s 591us/step - loss: 0.6688 - accuracy: 0.7513 - val_loss: 0.6889 - val_accuracy: 0.7403\n",
      "Epoch 5/100\n",
      "418/418 [==============================] - 0s 567us/step - loss: 0.6312 - accuracy: 0.7545 - val_loss: 0.6613 - val_accuracy: 0.7367\n",
      "Epoch 6/100\n",
      "418/418 [==============================] - 0s 542us/step - loss: 0.6103 - accuracy: 0.7572 - val_loss: 0.6443 - val_accuracy: 0.7397\n",
      "Epoch 7/100\n",
      "418/418 [==============================] - 0s 556us/step - loss: 0.5976 - accuracy: 0.7590 - val_loss: 0.6339 - val_accuracy: 0.7439\n",
      "Epoch 8/100\n",
      "418/418 [==============================] - 0s 602us/step - loss: 0.5893 - accuracy: 0.7595 - val_loss: 0.6266 - val_accuracy: 0.7445\n",
      "Epoch 9/100\n",
      "418/418 [==============================] - 0s 752us/step - loss: 0.5836 - accuracy: 0.7605 - val_loss: 0.6218 - val_accuracy: 0.7439\n",
      "Epoch 10/100\n",
      "418/418 [==============================] - 0s 699us/step - loss: 0.5794 - accuracy: 0.7602 - val_loss: 0.6194 - val_accuracy: 0.7487\n",
      "Epoch 11/100\n",
      "418/418 [==============================] - 0s 551us/step - loss: 0.5766 - accuracy: 0.7618 - val_loss: 0.6165 - val_accuracy: 0.7481\n",
      "Epoch 12/100\n",
      "418/418 [==============================] - 0s 624us/step - loss: 0.5742 - accuracy: 0.7618 - val_loss: 0.6138 - val_accuracy: 0.7481\n",
      "Epoch 13/100\n",
      "418/418 [==============================] - 0s 574us/step - loss: 0.5725 - accuracy: 0.7618 - val_loss: 0.6127 - val_accuracy: 0.7499\n",
      "Epoch 14/100\n",
      "418/418 [==============================] - 0s 597us/step - loss: 0.5712 - accuracy: 0.7617 - val_loss: 0.6120 - val_accuracy: 0.7481\n",
      "Epoch 15/100\n",
      "418/418 [==============================] - 0s 597us/step - loss: 0.5702 - accuracy: 0.7633 - val_loss: 0.6113 - val_accuracy: 0.7522\n",
      "Epoch 16/100\n",
      "418/418 [==============================] - 0s 591us/step - loss: 0.5692 - accuracy: 0.7614 - val_loss: 0.6109 - val_accuracy: 0.7528\n",
      "Epoch 17/100\n",
      "418/418 [==============================] - 0s 586us/step - loss: 0.5684 - accuracy: 0.7626 - val_loss: 0.6106 - val_accuracy: 0.7528\n",
      "Epoch 18/100\n",
      "418/418 [==============================] - 0s 544us/step - loss: 0.5678 - accuracy: 0.7644 - val_loss: 0.6095 - val_accuracy: 0.7522\n",
      "Epoch 19/100\n",
      "418/418 [==============================] - 0s 560us/step - loss: 0.5672 - accuracy: 0.7642 - val_loss: 0.6086 - val_accuracy: 0.7493\n",
      "Epoch 20/100\n",
      "418/418 [==============================] - 0s 542us/step - loss: 0.5670 - accuracy: 0.7639 - val_loss: 0.6091 - val_accuracy: 0.7493\n",
      "Epoch 21/100\n",
      "418/418 [==============================] - 0s 580us/step - loss: 0.5666 - accuracy: 0.7634 - val_loss: 0.6089 - val_accuracy: 0.7504\n",
      "Epoch 22/100\n",
      "418/418 [==============================] - 0s 625us/step - loss: 0.5661 - accuracy: 0.7630 - val_loss: 0.6085 - val_accuracy: 0.7487\n",
      "Epoch 23/100\n",
      "418/418 [==============================] - 0s 565us/step - loss: 0.5661 - accuracy: 0.7645 - val_loss: 0.6094 - val_accuracy: 0.7534\n",
      "Epoch 24/100\n",
      "418/418 [==============================] - 0s 555us/step - loss: 0.5657 - accuracy: 0.7634 - val_loss: 0.6084 - val_accuracy: 0.7504\n",
      "Epoch 25/100\n",
      "418/418 [==============================] - 0s 574us/step - loss: 0.5655 - accuracy: 0.7632 - val_loss: 0.6085 - val_accuracy: 0.7516\n",
      "Epoch 26/100\n",
      "418/418 [==============================] - 0s 555us/step - loss: 0.5654 - accuracy: 0.7632 - val_loss: 0.6078 - val_accuracy: 0.7510\n",
      "Epoch 27/100\n",
      "418/418 [==============================] - 0s 548us/step - loss: 0.5652 - accuracy: 0.7634 - val_loss: 0.6081 - val_accuracy: 0.7516\n",
      "Epoch 28/100\n",
      "418/418 [==============================] - 0s 556us/step - loss: 0.5651 - accuracy: 0.7638 - val_loss: 0.6079 - val_accuracy: 0.7504\n",
      "Epoch 29/100\n",
      "418/418 [==============================] - 0s 578us/step - loss: 0.5649 - accuracy: 0.7640 - val_loss: 0.6075 - val_accuracy: 0.7534\n",
      "Epoch 30/100\n",
      "418/418 [==============================] - 0s 539us/step - loss: 0.5647 - accuracy: 0.7642 - val_loss: 0.6079 - val_accuracy: 0.7499\n",
      "Epoch 31/100\n",
      "418/418 [==============================] - 0s 558us/step - loss: 0.5647 - accuracy: 0.7627 - val_loss: 0.6082 - val_accuracy: 0.7516\n",
      "Epoch 32/100\n",
      "418/418 [==============================] - 0s 551us/step - loss: 0.5646 - accuracy: 0.7626 - val_loss: 0.6078 - val_accuracy: 0.7510\n"
     ]
    },
    {
     "data": {
      "text/plain": [
       "<keras.callbacks.History at 0x154fbea60>"
      ]
     },
     "execution_count": 12,
     "metadata": {},
     "output_type": "execute_result"
    }
   ],
   "source": [
    "early_stopping = tf.keras.callbacks.EarlyStopping(patience=patience)\n",
    "model.fit(train_inputs,\n",
    "          train_targets,\n",
    "          epochs=max_epochs,\n",
    "          validation_data=(validation_inputs, validation_targets),\n",
    "          callbacks=[early_stopping],\n",
    "          verbose=1)"
   ]
  },
  {
   "cell_type": "markdown",
   "metadata": {},
   "source": [
    "## Test the model"
   ]
  },
  {
   "cell_type": "code",
   "execution_count": 13,
   "metadata": {
    "pycharm": {
     "name": "#%%\n"
    }
   },
   "outputs": [
    {
     "name": "stdout",
     "output_type": "stream",
     "text": [
      "53/53 [==============================] - 0s 551us/step - loss: 0.5831 - accuracy: 0.7482\n",
      "\n",
      "Test loss: 0.58. Test accuracy: 74.82%\n"
     ]
    }
   ],
   "source": [
    "test_loss, test_accuracy = model.evaluate(test_inputs, test_targets)\n",
    "\n",
    "print('\\nTest loss: {0:.2f}. Test accuracy: {1:.2f}%'.format(test_loss, test_accuracy*100.))"
   ]
  },
  {
   "cell_type": "markdown",
   "metadata": {},
   "source": [
    "## Post-mortem\n",
    "\n",
    "This experimental dataset does not seem to represent the population as a whole. A large majority of the samples were not working and therefore had no income. Furthermore, of the remaining set, almost 73% were in the poverty bucket. Finally, there was very little significance found in the inputs selected as predictive indicators, as the accuracy of the model only reaches around 75%."
   ]
  }
 ],
 "metadata": {
  "kernelspec": {
   "display_name": "Python 3 (ipykernel)",
   "language": "python",
   "name": "python3"
  },
  "language_info": {
   "codemirror_mode": {
    "name": "ipython",
    "version": 3
   },
   "file_extension": ".py",
   "mimetype": "text/x-python",
   "name": "python",
   "nbconvert_exporter": "python",
   "pygments_lexer": "ipython3",
   "version": "3.9.1"
  }
 },
 "nbformat": 4,
 "nbformat_minor": 2
}
